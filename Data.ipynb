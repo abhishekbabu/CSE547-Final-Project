{
 "cells": [
  {
   "cell_type": "code",
   "execution_count": 5,
   "id": "a5e3bfd7",
   "metadata": {},
   "outputs": [],
   "source": [
    "import numpy as np\n",
    "import matplotlib.pyplot as plt\n",
    "import seaborn as sns\n",
    "from statistics import median\n",
    "from scipy.stats import norm\n",
    "\n",
    "import os\n",
    "os.environ['JAVA_HOME'] = '/Library/Java/JavaVirtualMachines/jdk-15.0.1.jdk/Contents/Home'\n",
    "\n",
    "from pyspark import SparkContext\n",
    "from pyspark.sql import *\n",
    "from pyspark.sql.types import *\n",
    "import pyspark.sql.functions as F\n",
    "from pyspark.ml.feature import StringIndexer"
   ]
  },
  {
   "cell_type": "code",
   "execution_count": 6,
   "id": "a24d8bb1",
   "metadata": {},
   "outputs": [],
   "source": [
    "spark = SparkSession.builder.getOrCreate()\n",
    "sc = spark.sparkContext"
   ]
  },
  {
   "cell_type": "code",
   "execution_count": 7,
   "id": "38635148",
   "metadata": {},
   "outputs": [],
   "source": [
    "schema_ratings = StructType([\n",
    "    StructField(\"item_id\", StringType(), False),\n",
    "    StructField(\"user_id\", StringType(), False),\n",
    "    StructField(\"rating\", DoubleType(), False),\n",
    "    StructField(\"timestamp\", IntegerType(), False)])"
   ]
  },
  {
   "cell_type": "code",
   "execution_count": 8,
   "id": "e8238b52",
   "metadata": {},
   "outputs": [],
   "source": [
    "ratings = spark.read.csv(\"../Data/Appliances.csv\", header=False, schema=schema_ratings).drop('timestamp')"
   ]
  },
  {
   "cell_type": "code",
   "execution_count": 9,
   "id": "bc92c5fc",
   "metadata": {},
   "outputs": [
    {
     "name": "stdout",
     "output_type": "stream",
     "text": [
      "+----------+--------------+------+\n",
      "|   item_id|       user_id|rating|\n",
      "+----------+--------------+------+\n",
      "|1118461304|A3NHUQ33CFH3VM|   5.0|\n",
      "|1118461304|A3SK6VNBQDNBJE|   5.0|\n",
      "|1118461304|A3SOFHUR27FO3K|   5.0|\n",
      "|1118461304|A1HOG1PYCAE157|   5.0|\n",
      "|1118461304|A26JGAM6GZMM4V|   5.0|\n",
      "|1118461304|A17K8WANMYHTX2|   5.0|\n",
      "|1118461304|A13IW3A6W43U0G|   5.0|\n",
      "|1118461304|A1ECEGG1MP7J8J|   5.0|\n",
      "|1118461304|A2D5X9G9S3A7RN|   5.0|\n",
      "|1118461304| AP2F86JFRQ205|   5.0|\n",
      "|1118461304|A3VF3A5A3O04E1|   4.0|\n",
      "|1118461304|A14DW5UMQ1M96O|   5.0|\n",
      "|1118461304|A2V7UVKOFG57IW|   4.0|\n",
      "|1118461304|A2BM5NTLX7CES1|   4.0|\n",
      "|1118461304|A1EQ5D5JRSW23K|   5.0|\n",
      "|1118461304|A1R2JUOGIYH6HO|   4.0|\n",
      "|1118461304|A3JRW716H3AX14|   5.0|\n",
      "|1118461304|A3KGLXW3EYDTUH|   4.0|\n",
      "|1118461304|A1B70ZEWQ6UH1A|   3.0|\n",
      "|1118461304|A2I5QME4S7CLFI|   5.0|\n",
      "+----------+--------------+------+\n",
      "only showing top 20 rows\n",
      "\n"
     ]
    }
   ],
   "source": [
    "ratings.show()"
   ]
  },
  {
   "cell_type": "code",
   "execution_count": 10,
   "id": "efa381cb",
   "metadata": {},
   "outputs": [],
   "source": [
    "rating_list = [row.rating for row in ratings.select('rating').collect()]"
   ]
  },
  {
   "cell_type": "code",
   "execution_count": 11,
   "id": "c530c93d",
   "metadata": {},
   "outputs": [
    {
     "name": "stdout",
     "output_type": "stream",
     "text": [
      "Average Appliance Rating = 4.2742092017445925\n"
     ]
    }
   ],
   "source": [
    "avg_rating = np.mean(rating_list)\n",
    "print(\"Average Appliance Rating = {}\".format(avg_rating))"
   ]
  },
  {
   "cell_type": "code",
   "execution_count": 12,
   "id": "563e81ba",
   "metadata": {},
   "outputs": [
    {
     "name": "stdout",
     "output_type": "stream",
     "text": [
      "Median Appliance Rating = 5.0\n"
     ]
    }
   ],
   "source": [
    "median_rating = median(rating_list)\n",
    "print(\"Median Appliance Rating = {}\".format(median_rating))"
   ]
  },
  {
   "cell_type": "code",
   "execution_count": 13,
   "id": "3d52e000",
   "metadata": {},
   "outputs": [],
   "source": [
    "user_indexer = StringIndexer(inputCol='user_id', outputCol='user_int_id')\n",
    "ratings = user_indexer.fit(ratings).transform(ratings)"
   ]
  },
  {
   "cell_type": "code",
   "execution_count": 14,
   "id": "acdcc793",
   "metadata": {},
   "outputs": [],
   "source": [
    "item_indexer = StringIndexer(inputCol='item_id', outputCol='item_int_id')\n",
    "ratings = item_indexer.fit(ratings).transform(ratings)"
   ]
  },
  {
   "cell_type": "code",
   "execution_count": 15,
   "id": "8cb2cb5f",
   "metadata": {},
   "outputs": [],
   "source": [
    "ratings = ratings.withColumn('rating', ratings.rating.cast('int'))\n",
    "ratings = ratings.withColumn('user_int_id', ratings.user_int_id.cast('int'))\n",
    "ratings = ratings.withColumn('item_int_id', ratings.item_int_id.cast('int'))"
   ]
  },
  {
   "cell_type": "code",
   "execution_count": 16,
   "id": "892a4dcf",
   "metadata": {},
   "outputs": [
    {
     "name": "stdout",
     "output_type": "stream",
     "text": [
      "+----------+--------------+------+-----------+-----------+\n",
      "|   item_id|       user_id|rating|user_int_id|item_int_id|\n",
      "+----------+--------------+------+-----------+-----------+\n",
      "|1118461304|A3NHUQ33CFH3VM|     5|        118|       2229|\n",
      "|1118461304|A3SK6VNBQDNBJE|     5|     396610|       2229|\n",
      "|1118461304|A3SOFHUR27FO3K|     5|     397010|       2229|\n",
      "|1118461304|A1HOG1PYCAE157|     5|     122436|       2229|\n",
      "|1118461304|A26JGAM6GZMM4V|     5|     204413|       2229|\n",
      "|1118461304|A17K8WANMYHTX2|     5|      88869|       2229|\n",
      "|1118461304|A13IW3A6W43U0G|     5|      75566|       2229|\n",
      "|1118461304|A1ECEGG1MP7J8J|     5|     111423|       2229|\n",
      "|1118461304|A2D5X9G9S3A7RN|     5|     226519|       2229|\n",
      "|1118461304| AP2F86JFRQ205|     5|     479108|       2229|\n",
      "|1118461304|A3VF3A5A3O04E1|     4|     406281|       2229|\n",
      "|1118461304|A14DW5UMQ1M96O|     5|      78358|       2229|\n",
      "|1118461304|A2V7UVKOFG57IW|     4|     286083|       2229|\n",
      "|1118461304|A2BM5NTLX7CES1|     4|     221364|       2229|\n",
      "|1118461304|A1EQ5D5JRSW23K|     5|      18788|       2229|\n",
      "|1118461304|A1R2JUOGIYH6HO|     4|     153501|       2229|\n",
      "|1118461304|A3JRW716H3AX14|     5|     367548|       2229|\n",
      "|1118461304|A3KGLXW3EYDTUH|     4|     369747|       2229|\n",
      "|1118461304|A1B70ZEWQ6UH1A|     3|     101029|       2229|\n",
      "|1118461304|A2I5QME4S7CLFI|     5|     243117|       2229|\n",
      "+----------+--------------+------+-----------+-----------+\n",
      "only showing top 20 rows\n",
      "\n"
     ]
    }
   ],
   "source": [
    "ratings.show()"
   ]
  },
  {
   "cell_type": "code",
   "execution_count": 17,
   "id": "9e73bf30",
   "metadata": {},
   "outputs": [],
   "source": [
    "ratings = ratings.orderBy(F.rand())"
   ]
  },
  {
   "cell_type": "code",
   "execution_count": 18,
   "id": "98a36153",
   "metadata": {},
   "outputs": [
    {
     "name": "stdout",
     "output_type": "stream",
     "text": [
      "+----------+--------------+------+-----------+-----------+\n",
      "|   item_id|       user_id|rating|user_int_id|item_int_id|\n",
      "+----------+--------------+------+-----------+-----------+\n",
      "|B00569NRI2|A3MBQQ30FJ9E3M|     5|      48382|        567|\n",
      "|B003GF33ZU| ASJC38NOYFMQC|     5|      60888|        646|\n",
      "|B0128NYWGE|A2VU5I821CYQJV|     3|     288122|       2628|\n",
      "|B000P9BY2E|A3UWDHSDAVMNNY|     5|     404511|        520|\n",
      "|B00W0XE60U| AIHJ4OGKQ59RB|     5|      57216|         62|\n",
      "|B001TJ5380|A39UUXTEW7XGI5|     5|     334935|        122|\n",
      "|B01BLLM4X2|A1QGHX4ZFCMMO4|     5|     151496|        706|\n",
      "|B0053Y34GK|A31B4UFW4541FP|     5|     306338|        390|\n",
      "|B001KGX5G4| A4L4XNIVTA465|     5|     411033|        278|\n",
      "|B004XLDNZQ|A3HDIRY68CQQF5|     5|     359750|       1045|\n",
      "|B0053F80JA| ARGMJO2IKR6GV|     5|     487174|         29|\n",
      "|B0121CFQ4E|A2BIW4VA6RZUGC|     5|      31084|        497|\n",
      "|B0049POOKE|A12F1134XZ5V1Q|     5|       4262|        393|\n",
      "|B00AB51CUG| AJERMSONPROG5|     1|     460364|        533|\n",
      "|B000KN2WR6|A13SV7V95KQBXQ|     5|      14797|       1735|\n",
      "|B00230KU5A| AUM23PB75R0PS|     4|     497700|         68|\n",
      "|B001PAWUWK|A2NOKKUPWHNEPP|     5|     261437|        477|\n",
      "|B00AB1XH5S|A3DJZKIQA9LQ31|     5|     347135|       5302|\n",
      "|B0050KJOQ6|A3DIBKNQXS6ZZG|     5|     346985|        559|\n",
      "|B004BX3O8C|A2Z22ICG3O8AHD|     1|     298853|       2955|\n",
      "+----------+--------------+------+-----------+-----------+\n",
      "only showing top 20 rows\n",
      "\n"
     ]
    }
   ],
   "source": [
    "ratings.show()"
   ]
  },
  {
   "cell_type": "code",
   "execution_count": 21,
   "id": "88e8c09f",
   "metadata": {},
   "outputs": [],
   "source": [
    "ratings.write.save('../Data/appliances.parquet')"
   ]
  },
  {
   "cell_type": "code",
   "execution_count": 22,
   "id": "a65f4726",
   "metadata": {},
   "outputs": [
    {
     "data": {
      "text/plain": [
       "602777"
      ]
     },
     "execution_count": 22,
     "metadata": {},
     "output_type": "execute_result"
    }
   ],
   "source": [
    "ratings.count()"
   ]
  },
  {
   "cell_type": "code",
   "execution_count": 27,
   "id": "a255833c",
   "metadata": {},
   "outputs": [],
   "source": [
    "train, test, val = ratings.randomSplit([0.7, 0.2, 0.1])"
   ]
  },
  {
   "cell_type": "code",
   "execution_count": 28,
   "id": "0547f0fe",
   "metadata": {},
   "outputs": [
    {
     "name": "stdout",
     "output_type": "stream",
     "text": [
      "+----------+--------------+------+-----------+-----------+\n",
      "|   item_id|       user_id|rating|user_int_id|item_int_id|\n",
      "+----------+--------------+------+-----------+-----------+\n",
      "|1118461304|A13IW3A6W43U0G|     5|      75566|       2229|\n",
      "|1118461304|A14DW5UMQ1M96O|     5|      78358|       2229|\n",
      "|1118461304|A17K8WANMYHTX2|     5|      88869|       2229|\n",
      "|1118461304|A1EQ5D5JRSW23K|     5|      18788|       2229|\n",
      "|1118461304|A1F1A0QQP2XVH5|     5|       5116|       2229|\n",
      "|1118461304|A1H6JP5UC5WVT7|     4|     120805|       2229|\n",
      "|1118461304|A1INE33UQ1B4Q3|     5|     125632|       2229|\n",
      "|1118461304|A1R2JUOGIYH6HO|     4|     153501|       2229|\n",
      "|1118461304|A26JGAM6GZMM4V|     5|     204413|       2229|\n",
      "|1118461304|A2BM5NTLX7CES1|     4|     221364|       2229|\n",
      "|1118461304|A2D5X9G9S3A7RN|     5|     226519|       2229|\n",
      "|1118461304|A2I5QME4S7CLFI|     5|     243117|       2229|\n",
      "|1118461304|A2QKCOX5ACRHC5|     3|     270827|       2229|\n",
      "|1118461304|A2RQ0AT4XZUIXL|     3|     274766|       2229|\n",
      "|1118461304|A2SY92ZXU2FOEU|     5|     278752|       2229|\n",
      "|1118461304|A2V7UVKOFG57IW|     4|     286083|       2229|\n",
      "|1118461304|A33HIV8RXRDM88|     4|     313603|       2229|\n",
      "|1118461304|A3ANAWYJOX02BE|     4|     337577|       2229|\n",
      "|1118461304|A3KGLXW3EYDTUH|     4|     369747|       2229|\n",
      "|1118461304|A3SK6VNBQDNBJE|     5|     396610|       2229|\n",
      "+----------+--------------+------+-----------+-----------+\n",
      "only showing top 20 rows\n",
      "\n"
     ]
    }
   ],
   "source": [
    "train.show()"
   ]
  },
  {
   "cell_type": "code",
   "execution_count": 29,
   "id": "cda2b081",
   "metadata": {},
   "outputs": [
    {
     "name": "stdout",
     "output_type": "stream",
     "text": [
      "+----------+--------------+------+-----------+-----------+\n",
      "|   item_id|       user_id|rating|user_int_id|item_int_id|\n",
      "+----------+--------------+------+-----------+-----------+\n",
      "|1118461304|A1ECEGG1MP7J8J|     5|     111423|       2229|\n",
      "|1118461304|A1HOG1PYCAE157|     5|     122436|       2229|\n",
      "|1118461304|A3MWXF2CLXHBRI|     5|     377860|       2229|\n",
      "|1118461304|A3NHUQ33CFH3VM|     5|        118|       2229|\n",
      "|1118461304| ASHO96ZB8AL1Z|     5|      60864|       2229|\n",
      "|B00004SQHD|A1F8KMYRU1WEF2|     5|      18993|       2942|\n",
      "|B00004SQHD|A25RLL7WVGMH9B|     5|     201781|       2942|\n",
      "|B00004SQHD|A2Y7GJMFR0886X|     3|     295963|       2942|\n",
      "|B00004SQHD|A3CJX4WBAVRK01|     5|     343724|       2942|\n",
      "|B00004SQHD| AWHWKFAVSH827|     5|     503875|       2942|\n",
      "|B00004YWK2|A160Y8BJWHYOER|     5|      83703|        404|\n",
      "|B00004YWK2|A16RQOWNVD8JI7|     4|      86196|        404|\n",
      "|B00004YWK2|A17IU11U0ZX1KA|     3|      88742|        404|\n",
      "|B00004YWK2|A17ODKZV8TK69X|     4|      16203|        404|\n",
      "|B00004YWK2|A1BB00SC9W8P7U|     1|     101405|        404|\n",
      "|B00004YWK2|A1FQ5PQ5C7XVSK|     5|     116036|        404|\n",
      "|B00004YWK2|A1HZ6T8V9IFBRV|     5|      19967|        404|\n",
      "|B00004YWK2|A1J4H55CZMNTIN|     5|     127238|        404|\n",
      "|B00004YWK2|A1MOT6Z28G91LB|     4|       5645|        404|\n",
      "|B00004YWK2|A1NKL04HDUYNSM|     1|     141818|        404|\n",
      "+----------+--------------+------+-----------+-----------+\n",
      "only showing top 20 rows\n",
      "\n"
     ]
    }
   ],
   "source": [
    "test.show()"
   ]
  },
  {
   "cell_type": "code",
   "execution_count": 30,
   "id": "f53e659c",
   "metadata": {},
   "outputs": [
    {
     "name": "stdout",
     "output_type": "stream",
     "text": [
      "+----------+--------------+------+-----------+-----------+\n",
      "|   item_id|       user_id|rating|user_int_id|item_int_id|\n",
      "+----------+--------------+------+-----------+-----------+\n",
      "|1118461304|A1B70ZEWQ6UH1A|     3|     101029|       2229|\n",
      "|1118461304|A1DGVGJ55SB5PV|     5|     108548|       2229|\n",
      "|1118461304|A3JRW716H3AX14|     5|     367548|       2229|\n",
      "|1118461304| ABEAUXVVB2E1M|     4|     433745|       2229|\n",
      "|B00004YWK2|A10FT9CYOHPU7E|     2|      65351|        404|\n",
      "|B00004YWK2|A15GIKJZMKRBSY|     4|      81822|        404|\n",
      "|B00004YWK2|A1AMCUUMMJ76SJ|     4|      99117|        404|\n",
      "|B00004YWK2|A1ISAGPQ7AIBY1|     5|       5397|        404|\n",
      "|B00004YWK2| A1VEX8UG96ZW8|     1|     167843|        404|\n",
      "|B00004YWK2|A1WUSY40L8N9SK|     5|     172589|        404|\n",
      "|B00004YWK2|A2AAJMKGGCWEOT|     5|     216882|        404|\n",
      "|B00004YWK2| A2M7PPYXV7AKD|     5|       1104|        404|\n",
      "|B00004YWK2|A3028R8VERNDHI|     1|      40163|        404|\n",
      "|B00004YWK2|A31I9GY8AQK988|     3|     306972|        404|\n",
      "|B00004YWK2|A33QPGN18TS2Q2|     1|     314448|        404|\n",
      "|B00004YWK2|A3B87RJRG5IFC2|     5|      44287|        404|\n",
      "|B00004YWK2|A3IM2JACR52C9L|     5|     363771|        404|\n",
      "|B00004YWK2|A3K8ZMC0FJXN86|     5|     369056|        404|\n",
      "|B00004YWK2|A3K9IRC89IN1TI|     3|       3293|        404|\n",
      "|B00004YWK2| A3NFA6HF5LLYT|     5|     379541|        404|\n",
      "+----------+--------------+------+-----------+-----------+\n",
      "only showing top 20 rows\n",
      "\n"
     ]
    }
   ],
   "source": [
    "val.show()"
   ]
  },
  {
   "cell_type": "code",
   "execution_count": 31,
   "id": "fae30b83",
   "metadata": {},
   "outputs": [],
   "source": [
    "train.write.save('../Data/appliances_train.parquet')\n",
    "test.write.save('../Data/appliances_test.parquet')\n",
    "val.write.save('../Data/appliances_val.parquet')"
   ]
  },
  {
   "cell_type": "code",
   "execution_count": 32,
   "id": "cb11a3bc",
   "metadata": {},
   "outputs": [
    {
     "name": "stdout",
     "output_type": "stream",
     "text": [
      "+-------+--------------------+--------------------+------------------+------------------+-----------------+\n",
      "|summary|             item_id|             user_id|            rating|       user_int_id|      item_int_id|\n",
      "+-------+--------------------+--------------------+------------------+------------------+-----------------+\n",
      "|  count|              602777|              602777|            602777|            602777|           602777|\n",
      "|   mean|      2.6397998868E9|                null|4.2742092017445925|224090.82354834376|2402.704393166959|\n",
      "| stddev|3.0075062651294084E9|                null|1.3015969744055844| 160462.4737480712|4509.800222185398|\n",
      "|    min|          1118461304|A0001528BGUBOEVR6T5U|                 1|                 0|                0|\n",
      "|    max|          B01HJHHQM6|       AZZZY1W55XHZR|                 5|            515649|            30251|\n",
      "+-------+--------------------+--------------------+------------------+------------------+-----------------+\n",
      "\n"
     ]
    }
   ],
   "source": [
    "stats = ratings.describe()\n",
    "stats.show()"
   ]
  },
  {
   "cell_type": "code",
   "execution_count": 33,
   "id": "c94a6579",
   "metadata": {},
   "outputs": [
    {
     "name": "stdout",
     "output_type": "stream",
     "text": [
      "{'count': 602777.0, 'mean': 4.2742092017445925, 'stddev': 1.3015969744055844, 'min': 1.0, 'max': 5.0}\n"
     ]
    }
   ],
   "source": [
    "rating_stats = {}\n",
    "for row in stats.select(['summary', 'rating']).collect():\n",
    "    rating_stats[row.summary] = float(row.rating)\n",
    "print(rating_stats)"
   ]
  },
  {
   "cell_type": "code",
   "execution_count": 34,
   "id": "f257bc8d",
   "metadata": {},
   "outputs": [
    {
     "data": {
      "text/plain": [
       "30252"
      ]
     },
     "execution_count": 34,
     "metadata": {},
     "output_type": "execute_result"
    }
   ],
   "source": [
    "ratings.select('item_int_id').distinct().count()"
   ]
  },
  {
   "cell_type": "code",
   "execution_count": 35,
   "id": "3cee079d",
   "metadata": {},
   "outputs": [
    {
     "data": {
      "text/plain": [
       "515650"
      ]
     },
     "execution_count": 35,
     "metadata": {},
     "output_type": "execute_result"
    }
   ],
   "source": [
    "ratings.select('user_int_id').distinct().count()"
   ]
  },
  {
   "cell_type": "code",
   "execution_count": 36,
   "id": "2507f116",
   "metadata": {},
   "outputs": [
    {
     "name": "stdout",
     "output_type": "stream",
     "text": [
      "+------+------+\n",
      "|rating| count|\n",
      "+------+------+\n",
      "|     1| 59627|\n",
      "|     3| 30652|\n",
      "|     5|416288|\n",
      "|     4| 75476|\n",
      "|     2| 20734|\n",
      "+------+------+\n",
      "\n"
     ]
    }
   ],
   "source": [
    "counts = ratings.groupBy('rating').count()\n",
    "counts.show()"
   ]
  },
  {
   "cell_type": "code",
   "execution_count": 37,
   "id": "9ac653e4",
   "metadata": {},
   "outputs": [],
   "source": [
    "height = [row['count'] for row in counts.select('count').collect()]\n",
    "x = np.arange(5) + 1"
   ]
  },
  {
   "cell_type": "code",
   "execution_count": 38,
   "id": "d504fbbc",
   "metadata": {},
   "outputs": [],
   "source": [
    "mu = rating_stats['mean']\n",
    "sigma = rating_stats['stddev']\n",
    "xs = np.linspace(mu - 3 * sigma, mu + sigma, 100)"
   ]
  },
  {
   "cell_type": "code",
   "execution_count": 39,
   "id": "17b19ee4",
   "metadata": {},
   "outputs": [
    {
     "data": {
      "image/png": "[encoded data removed]",
      "text/plain": [
       "<Figure size 720x432 with 1 Axes>"
      ]
     },
     "metadata": {},
     "output_type": "display_data"
    }
   ],
   "source": [
    "sns.set_theme(style='whitegrid')\n",
    "plt.figure(figsize=(10, 6))\n",
    "plt.plot(xs, norm.pdf(xs, mu, sigma), label='Gaussian Distribution')\n",
    "plt.hist(rating_list, np.arange(6)+1, weights=np.ones(len(rating_list)) / len(rating_list), align='left', label='Dataset')\n",
    "plt.title('Distribution of Ratings in Dataset', fontsize=16)\n",
    "plt.ylabel('Fraction of Number of Reviews in Dataset', fontsize=14)\n",
    "plt.xlabel('Product Rating', fontsize=14)\n",
    "plt.legend(facecolor='whitesmoke', framealpha=1, fontsize=12.5)\n",
    "plt.savefig('../Figures/1_Histogram.png', bbox_inches='tight')\n",
    "plt.show()"
   ]
  }
 ],
 "metadata": {
  "kernelspec": {
   "display_name": "Python 3",
   "language": "python",
   "name": "python3"
  },
  "language_info": {
   "codemirror_mode": {
    "name": "ipython",
    "version": 3
   },
   "file_extension": ".py",
   "mimetype": "text/x-python",
   "name": "python",
   "nbconvert_exporter": "python",
   "pygments_lexer": "ipython3",
   "version": "3.7.9"
  }
 },
 "nbformat": 4,
 "nbformat_minor": 5
}
