{
 "cells": [
  {
   "cell_type": "code",
   "execution_count": 1,
   "id": "3f2d6f56",
   "metadata": {},
   "outputs": [],
   "source": [
    "import os\n",
    "os.environ['JAVA_HOME'] = '/Library/Java/JavaVirtualMachines/jdk-15.0.1.jdk/Contents/Home'\n",
    "\n",
    "from pyspark import SparkContext\n",
    "from pyspark.sql import *\n",
    "\n",
    "from pyspark.ml.evaluation import RegressionEvaluator\n",
    "from pyspark.ml.recommendation import ALS, ALSModel"
   ]
  },
  {
   "cell_type": "code",
   "execution_count": 2,
   "id": "66950b1d",
   "metadata": {},
   "outputs": [],
   "source": [
    "spark = SparkSession.builder.config(\"spark.driver.memory\", \"4g\").getOrCreate()\n",
    "sc = spark.sparkContext"
   ]
  },
  {
   "cell_type": "code",
   "execution_count": 3,
   "id": "ffd228e5",
   "metadata": {},
   "outputs": [],
   "source": [
    "train = spark.read.load('../Data/appliances_train.parquet')\n",
    "test = spark.read.load('../Data/appliances_test.parquet')\n",
    "val = spark.read.load('../Data/appliances_val.parquet')"
   ]
  },
  {
   "cell_type": "code",
   "execution_count": 4,
   "id": "5ddb1ad7",
   "metadata": {},
   "outputs": [
    {
     "name": "stdout",
     "output_type": "stream",
     "text": [
      "root\n",
      " |-- item_id: string (nullable = true)\n",
      " |-- user_id: string (nullable = true)\n",
      " |-- rating: integer (nullable = true)\n",
      " |-- user_int_id: integer (nullable = true)\n",
      " |-- item_int_id: integer (nullable = true)\n",
      "\n",
      "root\n",
      " |-- item_id: string (nullable = true)\n",
      " |-- user_id: string (nullable = true)\n",
      " |-- rating: integer (nullable = true)\n",
      " |-- user_int_id: integer (nullable = true)\n",
      " |-- item_int_id: integer (nullable = true)\n",
      "\n",
      "root\n",
      " |-- item_id: string (nullable = true)\n",
      " |-- user_id: string (nullable = true)\n",
      " |-- rating: integer (nullable = true)\n",
      " |-- user_int_id: integer (nullable = true)\n",
      " |-- item_int_id: integer (nullable = true)\n",
      "\n"
     ]
    }
   ],
   "source": [
    "train.printSchema()\n",
    "test.printSchema()\n",
    "val.printSchema()"
   ]
  },
  {
   "cell_type": "code",
   "execution_count": 5,
   "id": "a74da19e",
   "metadata": {},
   "outputs": [
    {
     "data": {
      "text/plain": [
       "422281"
      ]
     },
     "execution_count": 5,
     "metadata": {},
     "output_type": "execute_result"
    }
   ],
   "source": [
    "train.count()"
   ]
  },
  {
   "cell_type": "code",
   "execution_count": 6,
   "id": "495248b2",
   "metadata": {},
   "outputs": [
    {
     "data": {
      "text/plain": [
       "120129"
      ]
     },
     "execution_count": 6,
     "metadata": {},
     "output_type": "execute_result"
    }
   ],
   "source": [
    "test.count()"
   ]
  },
  {
   "cell_type": "code",
   "execution_count": 7,
   "id": "e808bac0",
   "metadata": {},
   "outputs": [
    {
     "data": {
      "text/plain": [
       "60367"
      ]
     },
     "execution_count": 7,
     "metadata": {},
     "output_type": "execute_result"
    }
   ],
   "source": [
    "val.count()"
   ]
  },
  {
   "cell_type": "code",
   "execution_count": 8,
   "id": "ff443ac0",
   "metadata": {},
   "outputs": [
    {
     "name": "stdout",
     "output_type": "stream",
     "text": [
      "+----------+--------------+------+-----------+-----------+\n",
      "|   item_id|       user_id|rating|user_int_id|item_int_id|\n",
      "+----------+--------------+------+-----------+-----------+\n",
      "|1118461304|A1A7PGN2HLMLOW|     5|      97723|       2229|\n",
      "|1118461304|A1O690F0T9XR4Z|     4|     143793|       2229|\n",
      "|1118461304|A1XMYM1OVUNCXX|     5|     175068|       2229|\n",
      "|1118461304|A21CQSIOV4NG7Y|     5|     187263|       2229|\n",
      "|1118461304|A2F8QSA7BCK1N6|     5|     233395|       2229|\n",
      "|1118461304| APP8XWYYV4PAA|     4|     481193|       2229|\n",
      "|1118461304| AWSLGG21FW7IU|     4|     504891|       2229|\n",
      "|1906487049|A1O1V5DBXB6DMP|     5|      22256|      12544|\n",
      "|1906487049|A2BE36GLSNCEOF|     4|     220583|      12544|\n",
      "|1906487049| AT7W8XDH1EGGL|     5|     493032|      12544|\n",
      "|7301113188|A24HQ894NFSTF5|     5|     197636|      19551|\n",
      "|7861850250|A3B0UA9I9CEVBT|     3|     338816|      19552|\n",
      "|8792559360|A283UCG4U3AUOM|     5|     209745|       7985|\n",
      "|8792559360|A3VD9JLBEITZFF|     5|     406095|       7985|\n",
      "|8792559360| AM7MY3DEWP7AW|     5|     469676|       7985|\n",
      "|9792954481|A3BWDM7YQ5ENXO|     2|     341656|      15065|\n",
      "|B00002N7HY|A29FO9SI6VDCCK|     5|      30270|       7408|\n",
      "|B00002N7HY|A2UEH0U5CV3053|     5|         43|       7408|\n",
      "|B00002N7HY|A2V3DZW93FWH54|     5|        319|       7408|\n",
      "|B00002N7IL|A1C6CXABMGKW1V|     5|      17859|       6080|\n",
      "+----------+--------------+------+-----------+-----------+\n",
      "only showing top 20 rows\n",
      "\n"
     ]
    }
   ],
   "source": [
    "train.show()"
   ]
  },
  {
   "cell_type": "code",
   "execution_count": 9,
   "id": "725bc0d2",
   "metadata": {},
   "outputs": [
    {
     "name": "stdout",
     "output_type": "stream",
     "text": [
      "+----------+--------------+------+-----------+-----------+\n",
      "|   item_id|       user_id|rating|user_int_id|item_int_id|\n",
      "+----------+--------------+------+-----------+-----------+\n",
      "|1118461304|A21MGW4YYUZ1YW|     5|     188083|       2229|\n",
      "|1118461304|A3C2VXXYG6ZB7J|     5|     342231|       2229|\n",
      "|6040985461|A3KBUSJHZO3P6A|     5|     369322|      19550|\n",
      "|8792559360|A1A7HV01DD1YKW|     5|      97701|       7985|\n",
      "|8792559360| A9EZ3SN4HHPTP|     5|     427105|       7985|\n",
      "|B00002N7HY|A2LNP1T89OK7ZS|     5|     254625|       7408|\n",
      "|B00002N7HY|A3TIWHNJXMSIU7|     5|       3455|       7408|\n",
      "|B00002N7HY| ATCY52ZP70FKP|     5|      12888|       7408|\n",
      "|B00002N7HY| AXE83MK90ZEVZ|     4|     506890|       7408|\n",
      "|B00002N7HY| AY41JC7MWFY1R|     5|      13193|       7408|\n",
      "|B00002N9OE|A3M66IF7LFUS27|     5|     375364|      19554|\n",
      "|B00004SQHD|A2N78TLERYNKC8|     5|     259824|       2942|\n",
      "|B00004SQHD|A3G13F4UZ1P53N|     5|     355346|       2942|\n",
      "|B00004SQHD| AMH5CUDJI208M|     5|     470601|       2942|\n",
      "|B00004SQHH|A1XP22C1M2V9IL|     5|       6393|      19555|\n",
      "|B00004YUMU|A1PR5ZLO040C6E|     4|      22913|      19557|\n",
      "|B00004YWK2|A1UUX6CM15ASGB|     5|      24777|        404|\n",
      "|B00004YWK2|A2GFAE3Y6UIT1A|     5|     237387|        404|\n",
      "|B00004YWK2|A3HCE9WN58GVA6|     5|     359629|        404|\n",
      "|B000056J8D|A3A9WB6SLCMV5O|     5|     336351|       2164|\n",
      "+----------+--------------+------+-----------+-----------+\n",
      "only showing top 20 rows\n",
      "\n"
     ]
    }
   ],
   "source": [
    "test.show()"
   ]
  },
  {
   "cell_type": "code",
   "execution_count": 10,
   "id": "8d2efa0c",
   "metadata": {},
   "outputs": [
    {
     "name": "stdout",
     "output_type": "stream",
     "text": [
      "+----------+--------------+------+-----------+-----------+\n",
      "|   item_id|       user_id|rating|user_int_id|item_int_id|\n",
      "+----------+--------------+------+-----------+-----------+\n",
      "|1118461304|A34T20MDA599MA|     5|     317971|       2229|\n",
      "|8792559360| A74TBP9UDF62J|     5|     419450|       7985|\n",
      "|8792559360| ALMBAY4H712C7|     5|     467633|       7985|\n",
      "|9792954481|A12UD9093P4A14|     5|        427|      15065|\n",
      "|B00002N5EL|A20JBUWRGLX9QK|     5|     184632|      19553|\n",
      "|B00002N7IL| A5OV35IHA1I9D|     5|      52625|       6080|\n",
      "|B00002NARC|A13O7AXYRWR7SE|     5|      76041|       9623|\n",
      "|B00004SQHD|A2BNNNIE7HZDZP|     5|     221503|       2942|\n",
      "|B00004YWK7| A8RIQ8GS7FRRJ|     2|     424917|       4182|\n",
      "|B000056J8D|A2D39KOZE8VXBE|     4|     226296|       2164|\n",
      "|B000056J8D|A30JQPUENNPAIX|     5|     303789|       2164|\n",
      "|B000056J8D| AFJGWMZTV64RF|     5|     447416|       2164|\n",
      "|B00005OU6T|A20KLKLE3FNCIK|     5|     184734|        425|\n",
      "|B00006IV17|A1EYNVHX20ESW4|     5|     113477|         87|\n",
      "|B00006JKZX|A1PVPOJ9OC9BS1|     5|     149548|       2700|\n",
      "|B00007E7NK|A2CIR2MO07ZIY3|     5|     224369|      12545|\n",
      "|B00007E7NK|A2HYFDKE5ELLM7|     4|      33454|      12545|\n",
      "|B00007E7RZ|A1RFX8CV7STJCF|     5|     154717|       1662|\n",
      "|B00007E7RZ|A2F7DN5C75FCAR|     1|     233267|       1662|\n",
      "|B00007E7RZ|A2TNC9CLUPIZZ9|     5|      37841|       1662|\n",
      "+----------+--------------+------+-----------+-----------+\n",
      "only showing top 20 rows\n",
      "\n"
     ]
    }
   ],
   "source": [
    "val.show()"
   ]
  },
  {
   "cell_type": "code",
   "execution_count": 11,
   "id": "37cb347a",
   "metadata": {},
   "outputs": [],
   "source": [
    "ranks = [50, 100]\n",
    "regParams = [0.01, 0.1, 1]\n",
    "min_rmse = float('inf')\n",
    "best_rank = -1\n",
    "best_regParam = -1"
   ]
  },
  {
   "cell_type": "code",
   "execution_count": 6,
   "id": "00d1ee2e",
   "metadata": {},
   "outputs": [],
   "source": [
    "evaluator = RegressionEvaluator(metricName='rmse', labelCol=\"rating\", predictionCol=\"prediction\")"
   ]
  },
  {
   "cell_type": "code",
   "execution_count": 13,
   "id": "352f077d",
   "metadata": {},
   "outputs": [
    {
     "name": "stdout",
     "output_type": "stream",
     "text": [
      "Rank = 50\tRegularization = 0.01\tRMSE = 3.9331106807395075\n",
      "Rank = 50\tRegularization = 0.1\tRMSE = 3.693289723237236\n",
      "Rank = 50\tRegularization = 1\tRMSE = 3.772034715387931\n",
      "Rank = 100\tRegularization = 0.01\tRMSE = 3.8470659758532477\n",
      "Rank = 100\tRegularization = 0.1\tRMSE = 3.68719655744318\n",
      "Rank = 100\tRegularization = 1\tRMSE = 3.7694189252855437\n"
     ]
    }
   ],
   "source": [
    "for rank in ranks:\n",
    "    for regParam in regParams:\n",
    "        als = ALS(maxIter=10, rank=rank, regParam=regParam, userCol='user_int_id', itemCol='item_int_id',\n",
    "                  ratingCol='rating', coldStartStrategy='drop')\n",
    "        model = als.fit(train)\n",
    "        \n",
    "        predictions = model.transform(val)\n",
    "        rmse = evaluator.evaluate(predictions)\n",
    "        print('Rank = {}\\tRegularization = {}\\tRMSE = {}'.format(rank, regParam, rmse))\n",
    "        \n",
    "        if rmse < min_rmse:\n",
    "            min_rmse = rmse\n",
    "            best_rank = rank\n",
    "            best_regParam = regParam\n",
    "            model.write().overwrite().save('../Models/appliances_model')\n",
    "        \n",
    "        del model"
   ]
  },
  {
   "cell_type": "code",
   "execution_count": 14,
   "id": "8e42562d",
   "metadata": {},
   "outputs": [
    {
     "name": "stdout",
     "output_type": "stream",
     "text": [
      "Optimal rank = 100\n",
      "Optimal regularization = 0.1\n"
     ]
    }
   ],
   "source": [
    "print('Optimal rank = {}'.format(best_rank))\n",
    "print('Optimal regularization = {}'.format(best_regParam))"
   ]
  },
  {
   "cell_type": "code",
   "execution_count": 15,
   "id": "78ca8fd6",
   "metadata": {},
   "outputs": [],
   "source": [
    "best_model = ALSModel.load('../Models/appliances_model')"
   ]
  },
  {
   "cell_type": "code",
   "execution_count": 16,
   "id": "8c2f2414",
   "metadata": {},
   "outputs": [
    {
     "name": "stdout",
     "output_type": "stream",
     "text": [
      "Test RMSE = 3.6842476137934237\n"
     ]
    }
   ],
   "source": [
    "test_predictions = best_model.transform(test)\n",
    "test_rmse = evaluator.evaluate(test_predictions)\n",
    "print('Test RMSE = {}'.format(test_rmse))"
   ]
  },
  {
   "cell_type": "code",
   "execution_count": 17,
   "id": "46b55a0d",
   "metadata": {},
   "outputs": [
    {
     "name": "stdout",
     "output_type": "stream",
     "text": [
      "+----------+--------------+------+-----------+-----------+-----------+\n",
      "|   item_id|       user_id|rating|user_int_id|item_int_id| prediction|\n",
      "+----------+--------------+------+-----------+-----------+-----------+\n",
      "|B00O7U6I0A| AZEXVY7HN4CBE|     2|      63493|        148| 0.15703431|\n",
      "|B00O7U6I0A|A1XYY3JY741SP4|     4|       6416|        148| -0.5187491|\n",
      "|B00O7U6I0A|A1EM4YL5JCXH2Z|     3|      18751|        148| 0.08858597|\n",
      "|B00O7U6I0A| A96JD9312DHWC|     5|      11511|        148|-0.07179089|\n",
      "|B00O7U6I0A| AAPSTM0B83J62|     5|      54408|        148|   0.369241|\n",
      "|B00O7U6I0A|A1BVZP7MGB836D|     3|      17726|        148|  0.6030436|\n",
      "|B00O7U6I0A|A329QXIE6FCSNZ|     2|      40951|        148|-0.13411051|\n",
      "|B00O7U6I0A|A3BOUVNTIGAIYT|     5|      44455|        148|  1.2567904|\n",
      "|B00O7U6I0A|A27K5G8B9Q4Y7Y|     5|      29509|        148|-0.23368415|\n",
      "|B00O7U6I0A| AKWTL66CUUG2S|     1|      58078|        148| 0.70660526|\n",
      "|B00O7U6I0A|A339GQCZI5WP06|     1|      41343|        148| -0.6321523|\n",
      "|B005BNMVEY|A2P6IDF0J8QGJ1|     5|      36230|        463|   2.051417|\n",
      "|B005BNMVEY| AZVLN13P37EN2|     1|      63684|        463|0.051826917|\n",
      "|B005BNMVEY|A2KSW3CSIMJ3AT|     5|        139|        463| 0.59771603|\n",
      "|B005BNMVEY|A36VDYW1TPZ0SI|     5|      42678|        463| 0.40207493|\n",
      "|B005BNMVEY| A14OGFM5SB70Y|     5|      15095|        463| 0.30589744|\n",
      "|B005BNMVEY|A1TFDCM5TXU631|     5|       2116|        463|0.016863195|\n",
      "|B005BNMVEY|A3AL8T9AEC4TKQ|     5|       3094|        463| 0.11747753|\n",
      "|B005BNMVEY|A1SYC990IZ2JBU|     5|      24056|        463| 0.23860207|\n",
      "|B005BNMVEY|A3FFJC8QCG4789|     5|      45816|        463|   2.051417|\n",
      "+----------+--------------+------+-----------+-----------+-----------+\n",
      "only showing top 20 rows\n",
      "\n"
     ]
    }
   ],
   "source": [
    "test_predictions.show()"
   ]
  },
  {
   "cell_type": "code",
   "execution_count": 4,
   "id": "d37b8e19",
   "metadata": {},
   "outputs": [],
   "source": [
    "als = ALS(maxIter=25, rank=100, regParam=0.1, userCol='user_int_id', itemCol='item_int_id',\n",
    "          ratingCol='rating', coldStartStrategy='drop')\n",
    "model = als.fit(train)"
   ]
  },
  {
   "cell_type": "code",
   "execution_count": 9,
   "id": "34295072",
   "metadata": {},
   "outputs": [],
   "source": [
    "model.write().overwrite().save('../Models/appliances_model')"
   ]
  },
  {
   "cell_type": "code",
   "execution_count": 7,
   "id": "50b85e5b",
   "metadata": {},
   "outputs": [
    {
     "name": "stdout",
     "output_type": "stream",
     "text": [
      "Test RMSE = 2.850876953527476\n"
     ]
    }
   ],
   "source": [
    "test_predictions = model.transform(test)\n",
    "test_rmse = evaluator.evaluate(test_predictions)\n",
    "print('Test RMSE = {}'.format(test_rmse))"
   ]
  },
  {
   "cell_type": "code",
   "execution_count": 8,
   "id": "7d65d054",
   "metadata": {},
   "outputs": [
    {
     "name": "stdout",
     "output_type": "stream",
     "text": [
      "+----------+--------------+------+-----------+-----------+-----------+\n",
      "|   item_id|       user_id|rating|user_int_id|item_int_id| prediction|\n",
      "+----------+--------------+------+-----------+-----------+-----------+\n",
      "|B00O7U6I0A| AZEXVY7HN4CBE|     2|      63493|        148| 0.95750785|\n",
      "|B00O7U6I0A|A1XYY3JY741SP4|     4|       6416|        148|  0.6383388|\n",
      "|B00O7U6I0A|A1EM4YL5JCXH2Z|     3|      18751|        148| 0.93844664|\n",
      "|B00O7U6I0A| A96JD9312DHWC|     5|      11511|        148| 0.44943675|\n",
      "|B00O7U6I0A| AAPSTM0B83J62|     5|      54408|        148|  1.3701524|\n",
      "|B00O7U6I0A|A1BVZP7MGB836D|     3|      17726|        148|  1.8148531|\n",
      "|B00O7U6I0A|A329QXIE6FCSNZ|     2|      40951|        148| 0.12827846|\n",
      "|B00O7U6I0A|A3BOUVNTIGAIYT|     5|      44455|        148|  3.3528082|\n",
      "|B00O7U6I0A|A27K5G8B9Q4Y7Y|     5|      29509|        148|-0.45448148|\n",
      "|B00O7U6I0A| AKWTL66CUUG2S|     1|      58078|        148|  1.6126176|\n",
      "|B00O7U6I0A|A339GQCZI5WP06|     1|      41343|        148|  1.6714823|\n",
      "|B005BNMVEY|A2P6IDF0J8QGJ1|     5|      36230|        463|   3.654388|\n",
      "|B005BNMVEY| AZVLN13P37EN2|     1|      63684|        463|  1.1812656|\n",
      "|B005BNMVEY|A2KSW3CSIMJ3AT|     5|        139|        463|  2.4616587|\n",
      "|B005BNMVEY|A36VDYW1TPZ0SI|     5|      42678|        463|  1.0387425|\n",
      "|B005BNMVEY| A14OGFM5SB70Y|     5|      15095|        463|  2.6064446|\n",
      "|B005BNMVEY|A1TFDCM5TXU631|     5|       2116|        463|   2.373635|\n",
      "|B005BNMVEY|A3AL8T9AEC4TKQ|     5|       3094|        463|  2.4699328|\n",
      "|B005BNMVEY|A1SYC990IZ2JBU|     5|      24056|        463|  2.1250894|\n",
      "|B005BNMVEY|A3FFJC8QCG4789|     5|      45816|        463|   3.654388|\n",
      "+----------+--------------+------+-----------+-----------+-----------+\n",
      "only showing top 20 rows\n",
      "\n"
     ]
    }
   ],
   "source": [
    "test_predictions.show()"
   ]
  },
  {
   "cell_type": "code",
   "execution_count": 10,
   "id": "3df92303",
   "metadata": {},
   "outputs": [],
   "source": [
    "sc.stop()"
   ]
  }
 ],
 "metadata": {
  "kernelspec": {
   "display_name": "Python 3",
   "language": "python",
   "name": "python3"
  },
  "language_info": {
   "codemirror_mode": {
    "name": "ipython",
    "version": 3
   },
   "file_extension": ".py",
   "mimetype": "text/x-python",
   "name": "python",
   "nbconvert_exporter": "python",
   "pygments_lexer": "ipython3",
   "version": "3.7.9"
  }
 },
 "nbformat": 4,
 "nbformat_minor": 5
}
